{
 "cells": [
  {
   "cell_type": "markdown",
   "metadata": {},
   "source": [
    "# Drawing rectangle and semicircle\n",
    "\n",
    "### Preparations"
   ]
  },
  {
   "cell_type": "code",
   "execution_count": 1,
   "metadata": {},
   "outputs": [],
   "source": [
    "# For convenience, let's begin by enabling\n",
    "# automatic reloading of modules when they change.\n",
    "%load_ext autoreload\n",
    "%autoreload 2\n",
    "\n",
    "from operator import le\n",
    "from re import L\n",
    "from anyio import current_default_worker_thread_limiter\n",
    "from matplotlib.pyplot import legend\n",
    "import numpy as np\n",
    "import matplotlib.pylab as plt\n",
    "from sympy import rad"
   ]
  },
  {
   "cell_type": "code",
   "execution_count": 41,
   "metadata": {},
   "outputs": [],
   "source": [
    "# Define variables\n",
    "sheet_dimension = 3000\n",
    "\n",
    "length_a = 1000\n",
    "length_b = 1500\n",
    "radius = 100\n",
    "\n",
    "coeff = 0.1\n",
    "\n",
    "timesteps = np.linspace(0,100, num = 150)"
   ]
  },
  {
   "cell_type": "code",
   "execution_count": 42,
   "metadata": {},
   "outputs": [],
   "source": [
    "def background(sheet_dimension):\n",
    "    back = np.zeros((sheet_dimension,sheet_dimension))\n",
    "    return back\n",
    "\n",
    "def inner_rectange(length_a, length_b, radius):\n",
    "    new_a = length_a - 2*radius\n",
    "    new_b = length_b - 2*radius\n",
    "\n",
    "    rectangle = np.ones((new_a,new_b))\n",
    "    return rectangle\n",
    "\n",
    "def outer_vertical_rect(length_a,radius):\n",
    "    new_a = length_a - 2*radius\n",
    "    rectangle = np.ones((new_a,radius))\n",
    "    return(rectangle)"
   ]
  },
  {
   "cell_type": "code",
   "execution_count": 43,
   "metadata": {},
   "outputs": [],
   "source": [
    "def outer_orizontal_rect(length_b,radius):\n",
    "    new_b = length_b - 2*radius\n",
    "    rectangle = np.ones((radius,new_b))\n",
    "    return(rectangle)\n",
    "\n",
    "\n",
    "def circle(radius):\n",
    "    x = np.linspace(-radius,radius, num = 2*radius)\n",
    "    y = np.linspace(-radius,radius, num = 2*radius)\n",
    "    A = np.zeros((2*radius,2*radius))\n",
    "\n",
    "    for i in x:\n",
    "        for j in y:\n",
    "            if np.sqrt(i**2+j**2) < radius:\n",
    "                A[radius+int(i),radius+int(j)] = 1\n",
    "    figure = A\n",
    "    return A"
   ]
  },
  {
   "cell_type": "code",
   "execution_count": 44,
   "metadata": {},
   "outputs": [],
   "source": [
    "def apply_central_rectagle(background, rectangle):\n",
    "    N = np.size(background[:,0])\n",
    "    x = np.size(rectangle[:,0])\n",
    "    y = np.size(rectangle[0,:])\n",
    "\n",
    "    if N % 2 != 0:\n",
    "        N = N+1\n",
    "    if y % 2 != 0:\n",
    "        y = y+1\n",
    "    if x % 2 != 0:\n",
    "        x = x+1\n",
    "\n",
    "    background[int((N/2)-(x/2)):int((N/2)+(x/2)),int((N/2)-(y/2)):int((N/2)+(y/2))] = rectangle\n",
    "    figure = background\n",
    "    return figure"
   ]
  },
  {
   "cell_type": "code",
   "execution_count": 45,
   "metadata": {},
   "outputs": [],
   "source": [
    "def apply_lateral_rectangles(background, orizontal, vertical):\n",
    "    N = np.size(background[:,0])\n",
    "    x = np.size(orizontal[0,:])\n",
    "    y = np.size(vertical[:,0])\n",
    "    r = np.size(orizontal[:,0])\n",
    "\n",
    "    if N % 2 != 0:\n",
    "        N = N+1\n",
    "    if y % 2 != 0:\n",
    "        y = y+1\n",
    "    if x % 2 != 0:\n",
    "        x = x+1\n",
    "    if r % 2 != 0:\n",
    "        r = r+1\n",
    "\n",
    "    background[int(N/2-y/2):int(N/2+y/2),int(N/2-x/2-r):int(N/2-x/2)] = vertical\n",
    "    background[int(N/2-y/2):int(N/2+y/2),int(N/2+x/2):int(N/2+x/2+r)] = vertical\n",
    "\n",
    "    background[int(N/2-y/2-r):int(N/2-y/2),int(N/2-x/2):int(N/2+x/2)] = orizontal\n",
    "    background[int(N/2+y/2):int(N/2+y/2+r),int(N/2-x/2):int(N/2+x/2)] = orizontal\n",
    "\n",
    "    figure = background\n",
    "    return figure"
   ]
  },
  {
   "cell_type": "code",
   "execution_count": 46,
   "metadata": {},
   "outputs": [],
   "source": [
    "def apply_edges_circes(circle, background, rectangle):\n",
    "    N = np.size(background[:,0])\n",
    "    x = np.size(rectangle[:,0])\n",
    "    y = np.size(rectangle[0,:])\n",
    "    r = np.size(circle[:,0])/2\n",
    "\n",
    "    if N % 2 != 0:\n",
    "        N = N+1\n",
    "    if y % 2 != 0:\n",
    "        y = y+1\n",
    "    if x % 2 != 0:\n",
    "        x = x+1\n",
    "\n",
    "    k = [-1,1]\n",
    "    for i in k:\n",
    "        for j in k:\n",
    "            background[int(N/2+i*(x/2)-r):int(N/2+i*(x/2)+r),int(N/2+j*(y/2)-r):int(N/2+j*(y/2)+r)] = circle\n",
    "        "
   ]
  },
  {
   "cell_type": "code",
   "execution_count": 47,
   "metadata": {},
   "outputs": [
    {
     "data": {
      "image/png": "[encoded data removed]",
      "text/plain": [
       "<Figure size 432x288 with 1 Axes>"
      ]
     },
     "metadata": {
      "needs_background": "light"
     },
     "output_type": "display_data"
    }
   ],
   "source": [
    "\n",
    "\n",
    "back = background(sheet_dimension)\n",
    "central_rect = coeff*inner_rectange(length_a,length_b,radius)\n",
    "orizontal = coeff*outer_orizontal_rect(length_b,radius)\n",
    "vertical = coeff*outer_vertical_rect(length_a,radius)\n",
    "cir = coeff*circle(radius)\n",
    "\n",
    "picture = apply_edges_circes(cir, back, central_rect)\n",
    "picture = apply_central_rectagle(back,central_rect)\n",
    "picture = apply_lateral_rectangles(back,orizontal,vertical)\n",
    "\n",
    "\n",
    "\n",
    "figure, axes = plt.subplots()\n",
    "\n",
    "axes.imshow(picture)\n",
    "\n",
    "plt.show()"
   ]
  },
  {
   "cell_type": "code",
   "execution_count": null,
   "metadata": {},
   "outputs": [],
   "source": []
  }
 ],
 "metadata": {
  "kernelspec": {
   "display_name": "Python 3 (ipykernel)",
   "language": "python",
   "name": "python3"
  },
  "language_info": {
   "codemirror_mode": {
    "name": "ipython",
    "version": 3
   },
   "file_extension": ".py",
   "mimetype": "text/x-python",
   "name": "python",
   "nbconvert_exporter": "python",
   "pygments_lexer": "ipython3",
   "version": "3.8.12"
  }
 },
 "nbformat": 4,
 "nbformat_minor": 4
}
