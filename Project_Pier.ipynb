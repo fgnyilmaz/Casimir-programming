{
 "cells": [
  {
   "cell_type": "markdown",
   "metadata": {},
   "source": [
    "# Drawing rectangles and semicircles\n",
    "\n",
    "### Preparations"
   ]
  },
  {
   "cell_type": "code",
   "execution_count": 1,
   "metadata": {},
   "outputs": [],
   "source": [
    "# For convenience, let's begin by enabling\n",
    "# automatic reloading of modules when they change.\n",
    "%load_ext autoreload\n",
    "%autoreload 2\n",
    "\n",
    "import numpy as np\n",
    "import matplotlib.pylab as plt\n"
   ]
  },
  {
   "cell_type": "markdown",
   "metadata": {},
   "source": [
    "## Define functions for the geometry"
   ]
  },
  {
   "cell_type": "code",
   "execution_count": 2,
   "metadata": {},
   "outputs": [],
   "source": [
    "def background(sheet_dimension):\n",
    "    \"\"\"\n",
    "    create the background\n",
    "    parameters:\n",
    "    int\n",
    "    dimension of the background\n",
    "    \"\"\"\n",
    "    back = np.zeros((sheet_dimension,sheet_dimension))\n",
    "    return back\n",
    "\n",
    "def rectangle(x,y):\n",
    "    \"\"\"\n",
    "    create a rectangle\n",
    "    parameters:\n",
    "    int\n",
    "    height and lenght\n",
    "    \"\"\"\n",
    "    return np.ones((y,x))\n",
    "\n",
    "def circle(radius_out, radius_in = 0, background_color = 0):\n",
    "    \"\"\"\n",
    "    create a circle\n",
    "    parameters:\n",
    "    int outer radius\n",
    "    inner radius\n",
    "\n",
    "    optional:\n",
    "    background color, which means you have to put the number you want to have\n",
    "    that then matplot will transform into a color \n",
    "    \"\"\"\n",
    "    x = np.linspace(-radius_out,radius_out, 2*radius_out)\n",
    "    y = np.linspace(-radius_out,radius_out, 2*radius_out)\n",
    "    A = background_color * np.ones((2*radius_out,2*radius_out))\n",
    "    for i in x[:-1]:\n",
    "        for j in y[:-1]:\n",
    "            r = np.sqrt(i**2+j**2)\n",
    "            if r < radius_out and r >= radius_in:  \n",
    "                A[radius_out+int(i),radius_out+int(j)] = 1\n",
    "    figure = A\n",
    "    return figure\n",
    "\n",
    "\n",
    "def ellipse(a_max, b_max, a_min = 0, b_min = 0,background_color = 0):\n",
    "    \"\"\"\n",
    "    create an ellipse\n",
    "    parameters:\n",
    "    int\n",
    "    inner and outer b and a axies\n",
    "\n",
    "    optional:\n",
    "    background color, which means you have to put the number you want to have\n",
    "    that then matplot will transform into a color \n",
    "    \"\"\"\n",
    "    x = np.linspace(-a_max,a_max, num = 2*a_max)\n",
    "    y = np.linspace(-b_max,b_max, num = 2*b_max)\n",
    "    A = background_color * np.ones((2*a_max,2*b_max))\n",
    "\n",
    "    for i in x[:-1]:\n",
    "        for j in y[:-1]:\n",
    "            r_max = np.sqrt(i**2/a_max**2+j**2/b_max**2)\n",
    "            r_min = np.sqrt(i**2/a_min**2+j**2/b_min**2)\n",
    "            if r_max < 1 and r_min > 1:  \n",
    "                A[a_max+int(i),b_max+int(j)] = 1\n",
    "    figure = A\n",
    "    return figure"
   ]
  },
  {
   "cell_type": "markdown",
   "metadata": {},
   "source": [
    "## Define a way to appy the figure to the picture"
   ]
  },
  {
   "cell_type": "code",
   "execution_count": 3,
   "metadata": {},
   "outputs": [],
   "source": [
    "def apply_figure(background, figure_to_apply, x_coordinate = 0, y_coordinate = 0):\n",
    "    \"\"\"\n",
    "    put the figure tou created in the background\n",
    "\n",
    "    parameters:\n",
    "    background = matrix\n",
    "    figure_to_apply = matrix\n",
    "\n",
    "    optional:\n",
    "    int\n",
    "    put the coordinates of the center of your figure\n",
    "\n",
    "    \"\"\"\n",
    "    N = int(np.size(background[:,0]))\n",
    "    a = int(np.size(figure_to_apply[:,0])/2)\n",
    "    b = int(np.size(figure_to_apply[0,:])/2)\n",
    "\n",
    "    x_start = int(N/2 + x_coordinate)\n",
    "    y_start = int(N/2 + y_coordinate)\n",
    "\n",
    "    background[(y_start-a):(y_start+a),(x_start-b):(x_start+b)] = figure_to_apply\n",
    "    new_figure = background\n",
    "    return new_figure"
   ]
  },
  {
   "cell_type": "markdown",
   "metadata": {},
   "source": [
    "## Creating the background"
   ]
  },
  {
   "cell_type": "code",
   "execution_count": 4,
   "metadata": {},
   "outputs": [
    {
     "data": {
      "image/png": "[encoded data removed]",
      "text/plain": [
       "<Figure size 432x288 with 1 Axes>"
      ]
     },
     "metadata": {
      "needs_background": "light"
     },
     "output_type": "display_data"
    }
   ],
   "source": [
    "background_dimension = 4000\n",
    "back = background(background_dimension)\n",
    "\n",
    "figure, axes = plt.subplots()\n",
    "axes.imshow(back)\n",
    "plt.show()"
   ]
  },
  {
   "cell_type": "markdown",
   "metadata": {},
   "source": [
    "## Central holder"
   ]
  },
  {
   "cell_type": "code",
   "execution_count": 5,
   "metadata": {},
   "outputs": [],
   "source": [
    "length_a = 2500\n",
    "length_b = 2500\n",
    "radius = 200\n",
    "\n",
    "color_1 = 0.1"
   ]
  },
  {
   "cell_type": "code",
   "execution_count": 6,
   "metadata": {},
   "outputs": [
    {
     "data": {
      "image/png": "[encoded data removed]",
      "text/plain": [
       "<Figure size 432x288 with 1 Axes>"
      ]
     },
     "metadata": {
      "needs_background": "light"
     },
     "output_type": "display_data"
    }
   ],
   "source": [
    "cir = color_1*circle(radius)\n",
    "\n",
    "for i in [-1,1]:\n",
    "    for j in [-1,1]:\n",
    "        picture = apply_figure(back,cir,i*length_b/2-i*radius,j*length_a/2-j*radius)\n",
    "\n",
    "figure, axes = plt.subplots()\n",
    "axes.imshow(picture)\n",
    "plt.show()\n"
   ]
  },
  {
   "cell_type": "code",
   "execution_count": 7,
   "metadata": {},
   "outputs": [
    {
     "data": {
      "image/png": "[encoded data removed]",
      "text/plain": [
       "<Figure size 432x288 with 1 Axes>"
      ]
     },
     "metadata": {
      "needs_background": "light"
     },
     "output_type": "display_data"
    }
   ],
   "source": [
    "central_rect = color_1*rectangle(length_b-2*radius,length_a-2*radius)\n",
    "orizontal = color_1*rectangle(length_b-2*radius,radius)\n",
    "vertical = color_1*rectangle(radius,length_a-2*radius)\n",
    "\n",
    "picture = apply_figure(back, central_rect,0,0)\n",
    "picture = apply_figure(back,orizontal,0,length_a/2-radius/2)\n",
    "picture = apply_figure(back,orizontal,0,-length_a/2+radius/2)\n",
    "picture = apply_figure(back,vertical,length_b/2-radius/2,0)\n",
    "picture = apply_figure(back,vertical,-length_b/2+radius/2,0)\n",
    "\n",
    "figure, axes = plt.subplots()\n",
    "axes.imshow(picture)\n",
    "plt.show()\n"
   ]
  },
  {
   "cell_type": "markdown",
   "metadata": {},
   "source": [
    "## From now on we use the same pricitple to create the entire circuit"
   ]
  },
  {
   "cell_type": "code",
   "execution_count": 8,
   "metadata": {},
   "outputs": [
    {
     "data": {
      "image/png": "[encoded data removed]",
      "text/plain": [
       "<Figure size 432x288 with 1 Axes>"
      ]
     },
     "metadata": {
      "needs_background": "light"
     },
     "output_type": "display_data"
    }
   ],
   "source": [
    "#### create various parts of the circuit ####\n",
    "#central gate\n",
    "color_2 = 0.5\n",
    "rad_gate = 200\n",
    "circle_gate = color_2*circle(rad_gate,0,color_1/color_2)\n",
    "picture = apply_figure(back,circle_gate,0,-length_a/4)\n",
    "picture = apply_figure(back,circle_gate,0,+length_a/4)\n",
    "\n",
    "h = 300\n",
    "t = 100\n",
    "vertical_rect_gate = color_2*rectangle(t,h)\n",
    "picture = apply_figure(back,vertical_rect_gate,0,-length_a/8)\n",
    "picture = apply_figure(back,vertical_rect_gate,0,+length_a/8)\n",
    "\n",
    "#connection \n",
    "color_3 = 0.8\n",
    "h = 330\n",
    "t = 50 \n",
    "conn = color_3*rectangle(t,h)\n",
    "picture = apply_figure(back,conn,0,0)\n",
    "\n",
    "#lateral connector\n",
    "color_4 = 0.7\n",
    "h = 400\n",
    "t = 10\n",
    "lateral_con = color_4*rectangle(t,h)\n",
    "oriz_con = color_4*rectangle(300,10)\n",
    "picture = apply_figure(back,lateral_con,300,0)\n",
    "\n",
    "picture = apply_figure(back,oriz_con,150,200)\n",
    "picture = apply_figure(back,oriz_con,150,-200)\n",
    "\n",
    "\n",
    "figure, axes = plt.subplots()\n",
    "axes.imshow(picture)\n",
    "plt.show()"
   ]
  },
  {
   "cell_type": "markdown",
   "metadata": {},
   "source": [
    "## Apply the final parts"
   ]
  },
  {
   "cell_type": "code",
   "execution_count": 9,
   "metadata": {},
   "outputs": [
    {
     "name": "stderr",
     "output_type": "stream",
     "text": [
      "<ipython-input-2-b7c143a02034>:61: RuntimeWarning: divide by zero encountered in double_scalars\n",
      "  r_min = np.sqrt(i**2/a_min**2+j**2/b_min**2)\n"
     ]
    },
    {
     "data": {
      "image/png": "[encoded data removed]",
      "text/plain": [
       "<Figure size 432x288 with 1 Axes>"
      ]
     },
     "metadata": {
      "needs_background": "light"
     },
     "output_type": "display_data"
    }
   ],
   "source": [
    "quarter_circle_down = color_4*circle(30,19,color_1/color_4)[:30,30:]\n",
    "quarter_circle_up = color_4*circle(30,19,color_1/color_4)[30:,30:]\n",
    "picture = apply_figure(back,quarter_circle_down,290,-190)\n",
    "picture = apply_figure(back,quarter_circle_up,290,190)\n",
    "\n",
    "#right ellipse\n",
    "color_5 = 0.9\n",
    "b_max = 500\n",
    "b_min = 450\n",
    "a_max = 200\n",
    "a_min = 150\n",
    "ell = color_5*ellipse(a_max,b_max,a_min,b_min, color_1/color_5)[:,:int(b_max)]\n",
    "picture = apply_figure(back,ell, length_a/2-b_max/2,0)\n",
    "\n",
    "#bottom ellipse\n",
    "color_6 = 1\n",
    "b_max = 800\n",
    "a_max = 100\n",
    "ell_bottom = color_6*ellipse(a_max,b_max,0,0,0)\n",
    "picture = apply_figure(back,ell_bottom,0,length_a/2 + 200)\n",
    "\n",
    "figure, axes = plt.subplots()\n",
    "axes.imshow(picture)\n",
    "plt.show()"
   ]
  },
  {
   "cell_type": "code",
   "execution_count": null,
   "metadata": {},
   "outputs": [],
   "source": []
  }
 ],
 "metadata": {
  "interpreter": {
   "hash": "8fa9a10b279878ca1b323f98c6fa72bdf01339ff1bb6794e9622bff9fae78d14"
  },
  "kernelspec": {
   "display_name": "Python 3.8.8 64-bit ('base': conda)",
   "name": "python3"
  },
  "language_info": {
   "codemirror_mode": {
    "name": "ipython",
    "version": 3
   },
   "file_extension": ".py",
   "mimetype": "text/x-python",
   "name": "python",
   "nbconvert_exporter": "python",
   "pygments_lexer": "ipython3",
   "version": "3.8.8"
  }
 },
 "nbformat": 4,
 "nbformat_minor": 4
}
