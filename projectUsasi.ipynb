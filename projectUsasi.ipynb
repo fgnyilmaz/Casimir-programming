{
 "cells": [
  {
   "cell_type": "code",
   "execution_count": 4,
   "id": "57757ba8-9a88-4200-829c-075977c7e545",
   "metadata": {},
   "outputs": [
    {
     "data": {
      "image/png": "[encoded data removed]",
      "text/plain": [
       "<Figure size 432x288 with 1 Axes>"
      ]
     },
     "metadata": {
      "needs_background": "light"
     },
     "output_type": "display_data"
    }
   ],
   "source": [
    "import numpy as np\n",
    "import matplotlib.pyplot as plt\n",
    "from matplotlib.path import Path\n",
    "import matplotlib.patches as patches\n",
    "\n",
    "\n",
    "\n",
    "def arc_rectangle(width, height, linewidth):\n",
    "    \"\"\"\n",
    "    This function plots a curvature centered at (0,0).\n",
    "\n",
    "    Parameters\n",
    "    ----------\n",
    "    width : int/float\n",
    "            Width or horizontal length\n",
    "    height : int/float\n",
    "            Height or vertical length\n",
    "    linewidth : int/float\n",
    "            Minimum width of the curvature\n",
    "\n",
    "    Returns\n",
    "    -------\n",
    "    None.\n",
    "\n",
    "    \"\"\"\n",
    "    initial_point = (-width/2, -height/2) #left down\n",
    "    second_point = (-width/2 , height/2 - 2*linewidth) \n",
    "    arc_control1 = (-width/2 , height/2)\n",
    "    arc_secondendpoint = (-width/2 + 2*linewidth, height/2)\n",
    "    straight_point = (width/2 - 2*linewidth, height/2)\n",
    "    arc2_control1 = (width/2 , height/2)\n",
    "    arc2_second_point = (width/2 , height/2 - 2*linewidth)\n",
    "    straight_point1 = (width/2 , -height/2)\n",
    "    third_point = (width/2 - linewidth, -height/2)\n",
    "    straight_point2 = (width/2 - linewidth, height/2- 2*linewidth)\n",
    "    arc3_control = (width/2 - linewidth, height/2- linewidth)\n",
    "    arc3_second_point = (width/2 - 2*linewidth, height/2- linewidth)\n",
    "    straight_point3 = (-width/2 + 3*linewidth , height/2 - linewidth)\n",
    "    arc4_control = (-width/2 + linewidth , height/2 - linewidth)\n",
    "    arc4_end_point = (-width/2 + linewidth , height/2 - 2* linewidth)\n",
    "    straight_point4 = (-width/2 + linewidth , -height/2)\n",
    "    \n",
    "    \n",
    "    \n",
    "    verts = [initial_point, second_point, arc_control1, arc_secondendpoint, straight_point, arc2_control1, \n",
    "             arc2_second_point, straight_point1, third_point, straight_point2, arc3_control, \n",
    "             arc3_second_point, straight_point3, arc4_control, arc4_end_point, straight_point4, initial_point]\n",
    "    \n",
    "    codes = [Path.MOVETO, Path.LINETO, Path.CURVE3, Path.CURVE3, Path.LINETO, \n",
    "             Path.CURVE3, Path.CURVE3, Path.LINETO, Path.LINETO, Path.LINETO, Path.CURVE3, Path.CURVE3,\n",
    "             Path.LINETO, Path.CURVE3, Path.CURVE3, Path.LINETO, Path.CLOSEPOLY]\n",
    "    \n",
    "    path = Path(verts, codes)\n",
    "    \n",
    "\n",
    "    fig, ax = plt.subplots()\n",
    "    patch = patches.PathPatch(path, facecolor='xkcd:sky', edgecolor = 'None' , lw=2)\n",
    "    ax.add_patch(patch)\n",
    "    # ax.add_patch(wedge)\n",
    "    ax.set_facecolor('xkcd:light grey')\n",
    "    ax.set_xlim(-width*2, width*2)\n",
    "    ax.set_ylim(-height*2, height*2)\n",
    "    plt.show()   \n",
    "       \n",
    "arc_rectangle(20.5,20.5,4) \n",
    "\n"
   ]
  },
  {
   "cell_type": "code",
   "execution_count": null,
   "id": "6e4265b1-ce85-4c68-81ec-cc93bef02916",
   "metadata": {},
   "outputs": [],
   "source": []
  }
 ],
 "metadata": {
  "kernelspec": {
   "display_name": "Python 3 (ipykernel)",
   "language": "python",
   "name": "python3"
  },
  "language_info": {
   "codemirror_mode": {
    "name": "ipython",
    "version": 3
   },
   "file_extension": ".py",
   "mimetype": "text/x-python",
   "name": "python",
   "nbconvert_exporter": "python",
   "pygments_lexer": "ipython3",
   "version": "3.9.7"
  }
 },
 "nbformat": 4,
 "nbformat_minor": 5
}
