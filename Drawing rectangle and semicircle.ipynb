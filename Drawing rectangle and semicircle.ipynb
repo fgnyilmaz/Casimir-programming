{
 "cells": [
  {
   "cell_type": "markdown",
   "metadata": {},
   "source": [
    "# Drawing rectangle and semicircle\n",
    "\n",
    "### Preparations"
   ]
  },
  {
   "cell_type": "code",
   "execution_count": 2,
   "metadata": {},
   "outputs": [],
   "source": [
    "# For convenience, let's begin by enabling\n",
    "# automatic reloading of modules when they change.\n",
    "%load_ext autoreload\n",
    "%autoreload 2\n",
    "\n",
    "import numpy as np\n",
    "\n",
    "import matplotlib.pyplot as plt\n"
   ]
  },
  {
   "cell_type": "code",
   "execution_count": 3,
   "metadata": {},
   "outputs": [
    {
     "data": {
      "text/plain": [
       "[<matplotlib.lines.Line2D at 0x1265b71acd0>]"
      ]
     },
     "execution_count": 3,
     "metadata": {},
     "output_type": "execute_result"
    },
    {
     "data": {
      "image/png": "[encoded data removed]",
      "text/plain": [
       "<Figure size 432x288 with 1 Axes>"
      ]
     },
     "metadata": {
      "needs_background": "light"
     },
     "output_type": "display_data"
    }
   ],
   "source": [
    "import numpy as np\n",
    "import matplotlib.pyplot as plt\n",
    "x_asix = np.array([0,0,100,100, 0])\n",
    "y_asix = np.array([0,100,100,0, 0])\n",
    "x_coordenates = np.concatenate([ x_asix])\n",
    "y_coordenates = np.concatenate([y_asix])\n",
    "\n",
    "plt.plot(x_coordenates, y_coordenates)"
   ]
  },
  {
   "cell_type": "code",
   "execution_count": 4,
   "metadata": {},
   "outputs": [],
   "source": [
    "import matplotlib.pyplot as plt\n",
    "import numpy as np\n",
    "\n",
    "def generate_semicircle(center_x, center_y, radius, stepsize=0.1):\n",
    "    \"\"\"\n",
    "    generates coordinates for a semicircle, centered at center_x, center_y\n",
    "    \"\"\"        \n",
    "\n",
    "    x = np.arange(center_x, center_x+radius+stepsize, stepsize)\n",
    "    y = np.sqrt(radius**2 - x**2)\n",
    "\n",
    "    # since each x value has two corresponding y-values, duplicate x-axis.\n",
    "    # [::-1] is required to have the correct order of elements for plt.plot. \n",
    "    x = np.concatenate([x,x[::-1]])\n",
    "\n",
    "    # concatenate y and flipped y. \n",
    "    y = np.concatenate([y,-y[::-1]])\n",
    "\n",
    "    return x, y + center_y"
   ]
  },
  {
   "cell_type": "code",
   "execution_count": 12,
   "metadata": {
    "scrolled": true
   },
   "outputs": [
    {
     "data": {
      "image/png": "[encoded data removed]",
      "text/plain": [
       "<Figure size 432x288 with 1 Axes>"
      ]
     },
     "metadata": {
      "needs_background": "light"
     },
     "output_type": "display_data"
    }
   ],
   "source": [
    "x,y = generate_semicircle(0,50,10, 0.01)\n",
    "plt.plot(x, y)\n",
    "plt.show()"
   ]
  },
  {
   "cell_type": "markdown",
   "metadata": {},
   "source": [
    "## An example"
   ]
  },
  {
   "cell_type": "code",
   "execution_count": 11,
   "metadata": {},
   "outputs": [
    {
     "data": {
      "text/plain": [
       "[<matplotlib.lines.Line2D at 0x1265b93b0d0>]"
      ]
     },
     "execution_count": 11,
     "metadata": {},
     "output_type": "execute_result"
    },
    {
     "data": {
      "image/png": "[encoded data removed]",
      "text/plain": [
       "<Figure size 432x288 with 1 Axes>"
      ]
     },
     "metadata": {
      "needs_background": "light"
     },
     "output_type": "display_data"
    }
   ],
   "source": [
    "import matplotlib.pyplot as plt\n",
    "\n",
    "fig, ax = plt.subplots(1, 1)\n",
    "ax.set_aspect('equal')\n",
    "\n",
    "x_asix = np.array([0,0,100,100, 0])\n",
    "y_asix = np.array([0,100,100,0, 0])\n",
    "x_coordenates = np.concatenate([ x_asix])\n",
    "y_coordenates = np.concatenate([y_asix])\n",
    "ax.plot(x_coordenates, y_coordenates)\n",
    "\n",
    "# ((x - x0) / a) ** 2 + ((y - y0) / b) ** 2 == 1\n",
    "a = 10\n",
    "b = 15\n",
    "x0 = 99\n",
    "y0 = 99\n",
    "x = np.linspace(-a + x0, a + x0)\n",
    "y = b * np.sqrt(1 - ((x - x0) / a) ** 2) + y0\n",
    "ax.plot(y, x)"
   ]
  },
  {
   "cell_type": "markdown",
   "metadata": {},
   "source": [
    "## My Trial"
   ]
  },
  {
   "cell_type": "code",
   "execution_count": null,
   "metadata": {},
   "outputs": [],
   "source": [
    "## First will draw a rectangle or a square\n",
    "\n",
    "# semicircle x^2 + y^2 <= r^2 and y>0 \n",
    "\n"
   ]
  }
 ],
 "metadata": {
  "kernelspec": {
   "display_name": "Python 3 (ipykernel)",
   "language": "python",
   "name": "python3"
  },
  "language_info": {
   "codemirror_mode": {
    "name": "ipython",
    "version": 3
   },
   "file_extension": ".py",
   "mimetype": "text/x-python",
   "name": "python",
   "nbconvert_exporter": "python",
   "pygments_lexer": "ipython3",
   "version": "3.8.12"
  }
 },
 "nbformat": 4,
 "nbformat_minor": 4
}
